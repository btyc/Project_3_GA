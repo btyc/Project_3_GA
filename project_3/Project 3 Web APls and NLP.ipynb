{
 "cells": [
  {
   "cell_type": "markdown",
   "id": "7a034642",
   "metadata": {},
   "source": [
    "![](https://ga-dash.s3.amazonaws.com/production/assets/logo-9f88ae6c9c3871690e33280fcf557f33.png)"
   ]
  },
  {
   "cell_type": "markdown",
   "id": "72452552",
   "metadata": {},
   "source": [
    "# Project 3: Web APIs & NLP"
   ]
  },
  {
   "cell_type": "markdown",
   "id": "e0ea3892",
   "metadata": {},
   "source": [
    "# Problem Statement"
   ]
  },
  {
   "cell_type": "markdown",
   "id": "677186e5",
   "metadata": {},
   "source": [
    "To identify the right subreddit given a specific post¶"
   ]
  },
  {
   "cell_type": "markdown",
   "id": "87a736eb",
   "metadata": {},
   "source": [
    "### Contents:"
   ]
  },
  {
   "cell_type": "markdown",
   "id": "5468132c",
   "metadata": {},
   "source": [
    "1. Background\n",
    "2. Importing Libraries\n",
    "3. Web Scraping\n",
    "4. Data Exploration\n",
    "5. Pre Processing\n",
    "6. Modeling\n",
    "7. Evaluation\n",
    "8. Conclusion"
   ]
  },
  {
   "cell_type": "markdown",
   "id": "ed68417f",
   "metadata": {},
   "source": [
    "# 1. Background"
   ]
  },
  {
   "cell_type": "markdown",
   "id": "e1fba3a5",
   "metadata": {},
   "source": [
    "Using Pushshift's API, I will collect posts from two subreddits which are from 'NBA' and 'PremierLeague'. I will then use NLP to train a classifier on which subreddit a given post came from. Two models will be created and compared where I will be using Naive Bayes and Random Forest classifier."
   ]
  },
  {
   "cell_type": "markdown",
   "id": "324a4074",
   "metadata": {},
   "source": [
    "# 2. Import Libraries"
   ]
  },
  {
   "cell_type": "code",
   "execution_count": 1,
   "id": "39a81ee6",
   "metadata": {},
   "outputs": [],
   "source": [
    "import requests\n",
    "import numpy as np\n",
    "import pandas as pd\n",
    "import seaborn as sns\n",
    "from nltk.stem import WordNetLemmatizer\n",
    "from nltk.tokenize import sent_tokenize, word_tokenize, RegexpTokenizer\n",
    "from sklearn.model_selection import train_test_split\n",
    "from sklearn.feature_extraction.text import CountVectorizer\n",
    "from sklearn.naive_bayes import MultinomialNB\n",
    "from sklearn.metrics import plot_confusion_matrix, accuracy_score, f1_score, plot_roc_curve, roc_auc_score\n",
    "import matplotlib.pyplot as plt"
   ]
  },
  {
   "cell_type": "markdown",
   "id": "8a28b338",
   "metadata": {},
   "source": [
    "# 3. Web Scraping"
   ]
  },
  {
   "cell_type": "markdown",
   "id": "0480f8ca",
   "metadata": {},
   "source": [
    "##### Created a function to scrape subreddit APIs"
   ]
  },
  {
   "cell_type": "code",
   "execution_count": 2,
   "id": "e5eac7fd",
   "metadata": {},
   "outputs": [],
   "source": [
    "def scraping(subreddit, number_of_times_to_scrape, no_of_posts_to_scrape):\n",
    "    title_list = []\n",
    "    author_list = []\n",
    "    created_utc_list = []\n",
    "    \n",
    "    url = 'https://api.pushshift.io/reddit/search/submission'\n",
    "    req = requests.get(url, params = {'subreddit': subreddit,\n",
    "                                      'size': no_of_posts_to_scrape\n",
    "                                     })\n",
    "    data = req.json()\n",
    "    \n",
    "    for item in data['data']:\n",
    "        title_list.append(item['title'])\n",
    "    for item in data['data']:\n",
    "        author_list.append(item['author'])\n",
    "    for item in data['data']:\n",
    "        created_utc_list.append(item['created_utc'])\n",
    "        \n",
    "    for i in range(1, number_of_times_to_scrape):\n",
    "        url = 'https://api.pushshift.io/reddit/search/submission'\n",
    "        req = requests.get(url, params = {'subreddit': subreddit,\n",
    "                                          'size': no_of_posts_to_scrape,\n",
    "                                          'before': created_utc_list[(len(created_utc_list)) - 1]\n",
    "                                         })\n",
    "    \n",
    "        data = req.json()\n",
    "        \n",
    "        for item in data['data']:\n",
    "            title_list.append(item['title'])\n",
    "        for item in data['data']:\n",
    "            author_list.append(item['author'])\n",
    "        for item in data['data']:\n",
    "            created_utc_list.append(item['created_utc'])\n",
    "    \n",
    "    output = pd.DataFrame({'Title':title_list, 'Author':author_list, 'Created_utc':created_utc_list})\n",
    "    output.drop_duplicates(subset = 'Title', keep = 'first', inplace = True)\n",
    "    return output"
   ]
  },
  {
   "cell_type": "code",
   "execution_count": 3,
   "id": "fe39e641",
   "metadata": {},
   "outputs": [],
   "source": [
    "#def scraping(subreddit, number_of_times_to_scrape, no_of_posts_to_scrape)\n",
    "subreddit1 = scraping('nba', 50, 100)"
   ]
  },
  {
   "cell_type": "code",
   "execution_count": 4,
   "id": "7e0da432",
   "metadata": {},
   "outputs": [],
   "source": [
    "#def scraping(subreddit, number_of_times_to_scrape, no_of_posts_to_scrape)\n",
    "subreddit2 = scraping('PremierLeague', 50, 100)"
   ]
  },
  {
   "cell_type": "markdown",
   "id": "897dd9bf",
   "metadata": {},
   "source": [
    "# 4. Data Exploration"
   ]
  },
  {
   "cell_type": "code",
   "execution_count": 5,
   "id": "58e1ae37",
   "metadata": {},
   "outputs": [
    {
     "name": "stdout",
     "output_type": "stream",
     "text": [
      "4737\n",
      "4761\n"
     ]
    }
   ],
   "source": [
    "print(len(subreddit1))\n",
    "print(len(subreddit2))"
   ]
  },
  {
   "cell_type": "code",
   "execution_count": 6,
   "id": "336b541e",
   "metadata": {},
   "outputs": [
    {
     "data": {
      "text/html": [
       "<div>\n",
       "<style scoped>\n",
       "    .dataframe tbody tr th:only-of-type {\n",
       "        vertical-align: middle;\n",
       "    }\n",
       "\n",
       "    .dataframe tbody tr th {\n",
       "        vertical-align: top;\n",
       "    }\n",
       "\n",
       "    .dataframe thead th {\n",
       "        text-align: right;\n",
       "    }\n",
       "</style>\n",
       "<table border=\"1\" class=\"dataframe\">\n",
       "  <thead>\n",
       "    <tr style=\"text-align: right;\">\n",
       "      <th></th>\n",
       "      <th>Title</th>\n",
       "      <th>Author</th>\n",
       "      <th>Created_utc</th>\n",
       "    </tr>\n",
       "  </thead>\n",
       "  <tbody>\n",
       "    <tr>\n",
       "      <th>0</th>\n",
       "      <td>I am seeking for a submissive that’s ready to ...</td>\n",
       "      <td>goddespiper8809</td>\n",
       "      <td>1633167249</td>\n",
       "    </tr>\n",
       "    <tr>\n",
       "      <th>1</th>\n",
       "      <td>Good News Friday: NBA players and other unexpe...</td>\n",
       "      <td>christoneforlife</td>\n",
       "      <td>1633161227</td>\n",
       "    </tr>\n",
       "    <tr>\n",
       "      <th>2</th>\n",
       "      <td>Players Are Easy, But Can You Make It Through ...</td>\n",
       "      <td>SilasSandra</td>\n",
       "      <td>1633158554</td>\n",
       "    </tr>\n",
       "    <tr>\n",
       "      <th>3</th>\n",
       "      <td>Which team will win, (hypothetically) a team (...</td>\n",
       "      <td>Litasf22</td>\n",
       "      <td>1633158048</td>\n",
       "    </tr>\n",
       "    <tr>\n",
       "      <th>4</th>\n",
       "      <td>The problem with ESPN analysts is that they ar...</td>\n",
       "      <td>killedBySasquatch</td>\n",
       "      <td>1633157903</td>\n",
       "    </tr>\n",
       "  </tbody>\n",
       "</table>\n",
       "</div>"
      ],
      "text/plain": [
       "                                               Title             Author  \\\n",
       "0  I am seeking for a submissive that’s ready to ...    goddespiper8809   \n",
       "1  Good News Friday: NBA players and other unexpe...   christoneforlife   \n",
       "2  Players Are Easy, But Can You Make It Through ...        SilasSandra   \n",
       "3  Which team will win, (hypothetically) a team (...           Litasf22   \n",
       "4  The problem with ESPN analysts is that they ar...  killedBySasquatch   \n",
       "\n",
       "   Created_utc  \n",
       "0   1633167249  \n",
       "1   1633161227  \n",
       "2   1633158554  \n",
       "3   1633158048  \n",
       "4   1633157903  "
      ]
     },
     "execution_count": 6,
     "metadata": {},
     "output_type": "execute_result"
    }
   ],
   "source": [
    "subreddit1.head()"
   ]
  },
  {
   "cell_type": "code",
   "execution_count": 7,
   "id": "0fcf2496",
   "metadata": {},
   "outputs": [
    {
     "data": {
      "text/html": [
       "<div>\n",
       "<style scoped>\n",
       "    .dataframe tbody tr th:only-of-type {\n",
       "        vertical-align: middle;\n",
       "    }\n",
       "\n",
       "    .dataframe tbody tr th {\n",
       "        vertical-align: top;\n",
       "    }\n",
       "\n",
       "    .dataframe thead th {\n",
       "        text-align: right;\n",
       "    }\n",
       "</style>\n",
       "<table border=\"1\" class=\"dataframe\">\n",
       "  <thead>\n",
       "    <tr style=\"text-align: right;\">\n",
       "      <th></th>\n",
       "      <th>Title</th>\n",
       "      <th>Author</th>\n",
       "      <th>Created_utc</th>\n",
       "    </tr>\n",
       "  </thead>\n",
       "  <tbody>\n",
       "    <tr>\n",
       "      <th>0</th>\n",
       "      <td>What do rival fans think about Tomiyasu?</td>\n",
       "      <td>MajorAffectionate595</td>\n",
       "      <td>1633165996</td>\n",
       "    </tr>\n",
       "    <tr>\n",
       "      <th>1</th>\n",
       "      <td>Which team from the middle or bottom half of t...</td>\n",
       "      <td>MajorAffectionate595</td>\n",
       "      <td>1633165890</td>\n",
       "    </tr>\n",
       "    <tr>\n",
       "      <th>2</th>\n",
       "      <td>Liverpool vs Manchester City - Preliminary View</td>\n",
       "      <td>-y-o-l-o-</td>\n",
       "      <td>1633165768</td>\n",
       "    </tr>\n",
       "    <tr>\n",
       "      <th>3</th>\n",
       "      <td>PREMIER LEAGUE FIXTURES - Matchday 7</td>\n",
       "      <td>wm17</td>\n",
       "      <td>1633150865</td>\n",
       "    </tr>\n",
       "    <tr>\n",
       "      <th>4</th>\n",
       "      <td>PREMIER LEAGUE MARBLES - Matchday 7 ⚽️🏟</td>\n",
       "      <td>wm17</td>\n",
       "      <td>1633150638</td>\n",
       "    </tr>\n",
       "  </tbody>\n",
       "</table>\n",
       "</div>"
      ],
      "text/plain": [
       "                                               Title                Author  \\\n",
       "0           What do rival fans think about Tomiyasu?  MajorAffectionate595   \n",
       "1  Which team from the middle or bottom half of t...  MajorAffectionate595   \n",
       "2    Liverpool vs Manchester City - Preliminary View             -y-o-l-o-   \n",
       "3               PREMIER LEAGUE FIXTURES - Matchday 7                  wm17   \n",
       "4            PREMIER LEAGUE MARBLES - Matchday 7 ⚽️🏟                  wm17   \n",
       "\n",
       "   Created_utc  \n",
       "0   1633165996  \n",
       "1   1633165890  \n",
       "2   1633165768  \n",
       "3   1633150865  \n",
       "4   1633150638  "
      ]
     },
     "execution_count": 7,
     "metadata": {},
     "output_type": "execute_result"
    }
   ],
   "source": [
    "subreddit2.head()"
   ]
  },
  {
   "cell_type": "code",
   "execution_count": 8,
   "id": "1a83f790",
   "metadata": {},
   "outputs": [
    {
     "name": "stdout",
     "output_type": "stream",
     "text": [
      "Title          4737\n",
      "Author         2133\n",
      "Created_utc    4725\n",
      "dtype: int64\n",
      "Title          4761\n",
      "Author         2435\n",
      "Created_utc    4760\n",
      "dtype: int64\n"
     ]
    }
   ],
   "source": [
    "print(subreddit1.nunique())\n",
    "print(subreddit2.nunique())"
   ]
  },
  {
   "cell_type": "code",
   "execution_count": 9,
   "id": "960cd706",
   "metadata": {},
   "outputs": [
    {
     "name": "stdout",
     "output_type": "stream",
     "text": [
      "Title          0\n",
      "Author         0\n",
      "Created_utc    0\n",
      "dtype: int64\n",
      "Title          0\n",
      "Author         0\n",
      "Created_utc    0\n",
      "dtype: int64\n"
     ]
    }
   ],
   "source": [
    "#Search for null values\n",
    "print(subreddit1.isnull().sum())\n",
    "print(subreddit2.isnull().sum())"
   ]
  },
  {
   "cell_type": "markdown",
   "id": "ad7168e5",
   "metadata": {},
   "source": [
    "## 4.1 Combine both subreddits into Dataframe"
   ]
  },
  {
   "cell_type": "code",
   "execution_count": 10,
   "id": "b20e1b5b",
   "metadata": {},
   "outputs": [],
   "source": [
    "subreddit1['Label'] = 1\n",
    "subreddit2['Label'] = 0"
   ]
  },
  {
   "cell_type": "code",
   "execution_count": 11,
   "id": "865350ef",
   "metadata": {},
   "outputs": [],
   "source": [
    "frames = [subreddit1, subreddit2]"
   ]
  },
  {
   "cell_type": "code",
   "execution_count": 12,
   "id": "fb895b10",
   "metadata": {},
   "outputs": [],
   "source": [
    "subreddit_data = pd.concat(frames)"
   ]
  },
  {
   "cell_type": "code",
   "execution_count": 13,
   "id": "e8ec9812",
   "metadata": {},
   "outputs": [
    {
     "data": {
      "text/plain": [
       "Title          9494\n",
       "Author         4547\n",
       "Created_utc    9479\n",
       "Label             2\n",
       "dtype: int64"
      ]
     },
     "execution_count": 13,
     "metadata": {},
     "output_type": "execute_result"
    }
   ],
   "source": [
    "subreddit_data.nunique()"
   ]
  },
  {
   "cell_type": "code",
   "execution_count": 14,
   "id": "8990467e",
   "metadata": {},
   "outputs": [
    {
     "data": {
      "text/html": [
       "<div>\n",
       "<style scoped>\n",
       "    .dataframe tbody tr th:only-of-type {\n",
       "        vertical-align: middle;\n",
       "    }\n",
       "\n",
       "    .dataframe tbody tr th {\n",
       "        vertical-align: top;\n",
       "    }\n",
       "\n",
       "    .dataframe thead th {\n",
       "        text-align: right;\n",
       "    }\n",
       "</style>\n",
       "<table border=\"1\" class=\"dataframe\">\n",
       "  <thead>\n",
       "    <tr style=\"text-align: right;\">\n",
       "      <th></th>\n",
       "      <th>Title</th>\n",
       "      <th>Author</th>\n",
       "      <th>Created_utc</th>\n",
       "      <th>Label</th>\n",
       "    </tr>\n",
       "  </thead>\n",
       "  <tbody>\n",
       "    <tr>\n",
       "      <th>0</th>\n",
       "      <td>I am seeking for a submissive that’s ready to ...</td>\n",
       "      <td>goddespiper8809</td>\n",
       "      <td>1633167249</td>\n",
       "      <td>1</td>\n",
       "    </tr>\n",
       "    <tr>\n",
       "      <th>1</th>\n",
       "      <td>Good News Friday: NBA players and other unexpe...</td>\n",
       "      <td>christoneforlife</td>\n",
       "      <td>1633161227</td>\n",
       "      <td>1</td>\n",
       "    </tr>\n",
       "    <tr>\n",
       "      <th>2</th>\n",
       "      <td>Players Are Easy, But Can You Make It Through ...</td>\n",
       "      <td>SilasSandra</td>\n",
       "      <td>1633158554</td>\n",
       "      <td>1</td>\n",
       "    </tr>\n",
       "    <tr>\n",
       "      <th>3</th>\n",
       "      <td>Which team will win, (hypothetically) a team (...</td>\n",
       "      <td>Litasf22</td>\n",
       "      <td>1633158048</td>\n",
       "      <td>1</td>\n",
       "    </tr>\n",
       "    <tr>\n",
       "      <th>4</th>\n",
       "      <td>The problem with ESPN analysts is that they ar...</td>\n",
       "      <td>killedBySasquatch</td>\n",
       "      <td>1633157903</td>\n",
       "      <td>1</td>\n",
       "    </tr>\n",
       "  </tbody>\n",
       "</table>\n",
       "</div>"
      ],
      "text/plain": [
       "                                               Title             Author  \\\n",
       "0  I am seeking for a submissive that’s ready to ...    goddespiper8809   \n",
       "1  Good News Friday: NBA players and other unexpe...   christoneforlife   \n",
       "2  Players Are Easy, But Can You Make It Through ...        SilasSandra   \n",
       "3  Which team will win, (hypothetically) a team (...           Litasf22   \n",
       "4  The problem with ESPN analysts is that they ar...  killedBySasquatch   \n",
       "\n",
       "   Created_utc  Label  \n",
       "0   1633167249      1  \n",
       "1   1633161227      1  \n",
       "2   1633158554      1  \n",
       "3   1633158048      1  \n",
       "4   1633157903      1  "
      ]
     },
     "execution_count": 14,
     "metadata": {},
     "output_type": "execute_result"
    }
   ],
   "source": [
    "subreddit_data.head()"
   ]
  },
  {
   "cell_type": "code",
   "execution_count": 15,
   "id": "34242286",
   "metadata": {},
   "outputs": [
    {
     "data": {
      "text/plain": [
       "0    4761\n",
       "1    4737\n",
       "Name: Label, dtype: int64"
      ]
     },
     "execution_count": 15,
     "metadata": {},
     "output_type": "execute_result"
    }
   ],
   "source": [
    "# Ensure correct number of posts for each subreddit\n",
    "subreddit_data['Label'].value_counts()"
   ]
  },
  {
   "cell_type": "markdown",
   "id": "b83a335f",
   "metadata": {},
   "source": [
    "#### Save the DataFrame to CSV"
   ]
  },
  {
   "cell_type": "code",
   "execution_count": 16,
   "id": "a5a8a709",
   "metadata": {},
   "outputs": [],
   "source": [
    "subreddit_data.to_csv('subreddits.csv')"
   ]
  },
  {
   "cell_type": "markdown",
   "id": "f0759e3f",
   "metadata": {},
   "source": [
    "# 5. Pre Processing"
   ]
  },
  {
   "cell_type": "markdown",
   "id": "53c2cbd3",
   "metadata": {},
   "source": [
    "## 5.1 Tokenize"
   ]
  },
  {
   "cell_type": "code",
   "execution_count": 17,
   "id": "2b15f3f4",
   "metadata": {},
   "outputs": [],
   "source": [
    "subreddit_data = pd.read_csv('subreddits.csv')"
   ]
  },
  {
   "cell_type": "code",
   "execution_count": 49,
   "id": "7c21bdd6",
   "metadata": {},
   "outputs": [
    {
     "name": "stdout",
     "output_type": "stream",
     "text": [
      "<class 'pandas.core.frame.DataFrame'>\n",
      "RangeIndex: 9498 entries, 0 to 9497\n",
      "Data columns (total 7 columns):\n",
      " #   Column                    Non-Null Count  Dtype \n",
      "---  ------                    --------------  ----- \n",
      " 0   Unnamed: 0                9498 non-null   int64 \n",
      " 1   Title                     9498 non-null   object\n",
      " 2   Author                    9498 non-null   object\n",
      " 3   Created_utc               9498 non-null   int64 \n",
      " 4   Label                     9498 non-null   int64 \n",
      " 5   Tokenized                 9498 non-null   object\n",
      " 6   Tokenized and Lemmatized  9498 non-null   object\n",
      "dtypes: int64(3), object(4)\n",
      "memory usage: 519.5+ KB\n"
     ]
    }
   ],
   "source": [
    "subreddit_data.info()"
   ]
  },
  {
   "cell_type": "code",
   "execution_count": 18,
   "id": "325180ab",
   "metadata": {},
   "outputs": [],
   "source": [
    "def tokenize(subreddit_data):\n",
    "    tokenizer = RegexpTokenizer(r'\\w+')\n",
    "    return tokenizer.tokenize(subreddit_data)"
   ]
  },
  {
   "cell_type": "code",
   "execution_count": 19,
   "id": "6e08418c",
   "metadata": {},
   "outputs": [],
   "source": [
    "subreddit_data['Tokenized'] = subreddit_data['Title'].map(tokenize)"
   ]
  },
  {
   "cell_type": "markdown",
   "id": "3ea79f20",
   "metadata": {},
   "source": [
    "## 5.2 Lemmatize"
   ]
  },
  {
   "cell_type": "code",
   "execution_count": 20,
   "id": "47efca86",
   "metadata": {},
   "outputs": [],
   "source": [
    "def lemmatize(subreddit_data):\n",
    "    lemmatizer = WordNetLemmatizer()\n",
    "    return ' '.join([lemmatizer.lemmatize(i) for i in subreddit_data])"
   ]
  },
  {
   "cell_type": "code",
   "execution_count": 21,
   "id": "5f8a0b73",
   "metadata": {},
   "outputs": [],
   "source": [
    "subreddit_data['Tokenized and Lemmatized'] = subreddit_data['Tokenized'].map(lemmatize)"
   ]
  },
  {
   "cell_type": "code",
   "execution_count": 22,
   "id": "77ea8e8c",
   "metadata": {},
   "outputs": [
    {
     "data": {
      "text/html": [
       "<div>\n",
       "<style scoped>\n",
       "    .dataframe tbody tr th:only-of-type {\n",
       "        vertical-align: middle;\n",
       "    }\n",
       "\n",
       "    .dataframe tbody tr th {\n",
       "        vertical-align: top;\n",
       "    }\n",
       "\n",
       "    .dataframe thead th {\n",
       "        text-align: right;\n",
       "    }\n",
       "</style>\n",
       "<table border=\"1\" class=\"dataframe\">\n",
       "  <thead>\n",
       "    <tr style=\"text-align: right;\">\n",
       "      <th></th>\n",
       "      <th>Unnamed: 0</th>\n",
       "      <th>Title</th>\n",
       "      <th>Author</th>\n",
       "      <th>Created_utc</th>\n",
       "      <th>Label</th>\n",
       "      <th>Tokenized</th>\n",
       "      <th>Tokenized and Lemmatized</th>\n",
       "    </tr>\n",
       "  </thead>\n",
       "  <tbody>\n",
       "    <tr>\n",
       "      <th>0</th>\n",
       "      <td>0</td>\n",
       "      <td>I am seeking for a submissive that’s ready to ...</td>\n",
       "      <td>goddespiper8809</td>\n",
       "      <td>1633167249</td>\n",
       "      <td>1</td>\n",
       "      <td>[I, am, seeking, for, a, submissive, that, s, ...</td>\n",
       "      <td>I am seeking for a submissive that s ready to ...</td>\n",
       "    </tr>\n",
       "    <tr>\n",
       "      <th>1</th>\n",
       "      <td>1</td>\n",
       "      <td>Good News Friday: NBA players and other unexpe...</td>\n",
       "      <td>christoneforlife</td>\n",
       "      <td>1633161227</td>\n",
       "      <td>1</td>\n",
       "      <td>[Good, News, Friday, NBA, players, and, other,...</td>\n",
       "      <td>Good News Friday NBA player and other unexpect...</td>\n",
       "    </tr>\n",
       "    <tr>\n",
       "      <th>2</th>\n",
       "      <td>2</td>\n",
       "      <td>Players Are Easy, But Can You Make It Through ...</td>\n",
       "      <td>SilasSandra</td>\n",
       "      <td>1633158554</td>\n",
       "      <td>1</td>\n",
       "      <td>[Players, Are, Easy, But, Can, You, Make, It, ...</td>\n",
       "      <td>Players Are Easy But Can You Make It Through T...</td>\n",
       "    </tr>\n",
       "    <tr>\n",
       "      <th>3</th>\n",
       "      <td>3</td>\n",
       "      <td>Which team will win, (hypothetically) a team (...</td>\n",
       "      <td>Litasf22</td>\n",
       "      <td>1633158048</td>\n",
       "      <td>1</td>\n",
       "      <td>[Which, team, will, win, hypothetically, a, te...</td>\n",
       "      <td>Which team will win hypothetically a team 5 MI...</td>\n",
       "    </tr>\n",
       "    <tr>\n",
       "      <th>4</th>\n",
       "      <td>4</td>\n",
       "      <td>The problem with ESPN analysts is that they ar...</td>\n",
       "      <td>killedBySasquatch</td>\n",
       "      <td>1633157903</td>\n",
       "      <td>1</td>\n",
       "      <td>[The, problem, with, ESPN, analysts, is, that,...</td>\n",
       "      <td>The problem with ESPN analyst is that they are...</td>\n",
       "    </tr>\n",
       "  </tbody>\n",
       "</table>\n",
       "</div>"
      ],
      "text/plain": [
       "   Unnamed: 0                                              Title  \\\n",
       "0           0  I am seeking for a submissive that’s ready to ...   \n",
       "1           1  Good News Friday: NBA players and other unexpe...   \n",
       "2           2  Players Are Easy, But Can You Make It Through ...   \n",
       "3           3  Which team will win, (hypothetically) a team (...   \n",
       "4           4  The problem with ESPN analysts is that they ar...   \n",
       "\n",
       "              Author  Created_utc  Label  \\\n",
       "0    goddespiper8809   1633167249      1   \n",
       "1   christoneforlife   1633161227      1   \n",
       "2        SilasSandra   1633158554      1   \n",
       "3           Litasf22   1633158048      1   \n",
       "4  killedBySasquatch   1633157903      1   \n",
       "\n",
       "                                           Tokenized  \\\n",
       "0  [I, am, seeking, for, a, submissive, that, s, ...   \n",
       "1  [Good, News, Friday, NBA, players, and, other,...   \n",
       "2  [Players, Are, Easy, But, Can, You, Make, It, ...   \n",
       "3  [Which, team, will, win, hypothetically, a, te...   \n",
       "4  [The, problem, with, ESPN, analysts, is, that,...   \n",
       "\n",
       "                            Tokenized and Lemmatized  \n",
       "0  I am seeking for a submissive that s ready to ...  \n",
       "1  Good News Friday NBA player and other unexpect...  \n",
       "2  Players Are Easy But Can You Make It Through T...  \n",
       "3  Which team will win hypothetically a team 5 MI...  \n",
       "4  The problem with ESPN analyst is that they are...  "
      ]
     },
     "execution_count": 22,
     "metadata": {},
     "output_type": "execute_result"
    }
   ],
   "source": [
    "subreddit_data.head()"
   ]
  },
  {
   "cell_type": "markdown",
   "id": "e75f6033",
   "metadata": {},
   "source": [
    "# 6. Modeling"
   ]
  },
  {
   "cell_type": "code",
   "execution_count": 23,
   "id": "9679c888",
   "metadata": {},
   "outputs": [],
   "source": [
    "X = subreddit_data[['Tokenized and Lemmatized']]\n",
    "y = subreddit_data['Label']"
   ]
  },
  {
   "cell_type": "code",
   "execution_count": 24,
   "id": "d9fa29e5",
   "metadata": {},
   "outputs": [
    {
     "data": {
      "text/plain": [
       "0    0.501263\n",
       "1    0.498737\n",
       "Name: Label, dtype: float64"
      ]
     },
     "execution_count": 24,
     "metadata": {},
     "output_type": "execute_result"
    }
   ],
   "source": [
    "#Baseline Accuracy\n",
    "y.value_counts(normalize=True)"
   ]
  },
  {
   "cell_type": "code",
   "execution_count": 25,
   "id": "809c58d7",
   "metadata": {},
   "outputs": [],
   "source": [
    "X_train, X_test, y_train, y_test = train_test_split(X, y, test_size = 0.3, stratify = y, random_state = 42)"
   ]
  },
  {
   "cell_type": "code",
   "execution_count": 26,
   "id": "2c0fe0bd",
   "metadata": {},
   "outputs": [
    {
     "data": {
      "text/html": [
       "<div>\n",
       "<style scoped>\n",
       "    .dataframe tbody tr th:only-of-type {\n",
       "        vertical-align: middle;\n",
       "    }\n",
       "\n",
       "    .dataframe tbody tr th {\n",
       "        vertical-align: top;\n",
       "    }\n",
       "\n",
       "    .dataframe thead th {\n",
       "        text-align: right;\n",
       "    }\n",
       "</style>\n",
       "<table border=\"1\" class=\"dataframe\">\n",
       "  <thead>\n",
       "    <tr style=\"text-align: right;\">\n",
       "      <th></th>\n",
       "      <th>Tokenized and Lemmatized</th>\n",
       "    </tr>\n",
       "  </thead>\n",
       "  <tbody>\n",
       "    <tr>\n",
       "      <th>4928</th>\n",
       "      <td>Kane showing Levy who is the real bos Good on ...</td>\n",
       "    </tr>\n",
       "    <tr>\n",
       "      <th>8214</th>\n",
       "      <td>I Make Concept Kits for football manager here ...</td>\n",
       "    </tr>\n",
       "    <tr>\n",
       "      <th>7757</th>\n",
       "      <td>Confused about Man City s transfer tactic</td>\n",
       "    </tr>\n",
       "    <tr>\n",
       "      <th>5293</th>\n",
       "      <td>Best place to play worst place to live</td>\n",
       "    </tr>\n",
       "    <tr>\n",
       "      <th>2614</th>\n",
       "      <td>Classic Penny Hardaway commercial ft Chris Roc...</td>\n",
       "    </tr>\n",
       "  </tbody>\n",
       "</table>\n",
       "</div>"
      ],
      "text/plain": [
       "                               Tokenized and Lemmatized\n",
       "4928  Kane showing Levy who is the real bos Good on ...\n",
       "8214  I Make Concept Kits for football manager here ...\n",
       "7757          Confused about Man City s transfer tactic\n",
       "5293             Best place to play worst place to live\n",
       "2614  Classic Penny Hardaway commercial ft Chris Roc..."
      ]
     },
     "execution_count": 26,
     "metadata": {},
     "output_type": "execute_result"
    }
   ],
   "source": [
    "X_train.head()"
   ]
  },
  {
   "cell_type": "code",
   "execution_count": 27,
   "id": "35b6c6ff",
   "metadata": {},
   "outputs": [
    {
     "data": {
      "text/plain": [
       "4928    0\n",
       "8214    0\n",
       "7757    0\n",
       "5293    0\n",
       "2614    1\n",
       "Name: Label, dtype: int64"
      ]
     },
     "execution_count": 27,
     "metadata": {},
     "output_type": "execute_result"
    }
   ],
   "source": [
    "#1 = nba, 0 = PremierLeague\n",
    "y_train.head()"
   ]
  },
  {
   "cell_type": "code",
   "execution_count": 28,
   "id": "845b97f0",
   "metadata": {},
   "outputs": [],
   "source": [
    "# Instantiate CountVectorizer.\n",
    "cvec = CountVectorizer(max_features = 1500, stop_words = 'english')"
   ]
  },
  {
   "cell_type": "code",
   "execution_count": 29,
   "id": "12bd7058",
   "metadata": {},
   "outputs": [],
   "source": [
    "# Fit our CountVectorizer on the training data and transform training data.\n",
    "X_train_cvec = pd.DataFrame(cvec.fit_transform(X_train['Tokenized and Lemmatized']).todense(),\n",
    "                          columns = cvec.get_feature_names())"
   ]
  },
  {
   "cell_type": "code",
   "execution_count": 30,
   "id": "b324e9e0",
   "metadata": {},
   "outputs": [
    {
     "data": {
      "text/html": [
       "<div>\n",
       "<style scoped>\n",
       "    .dataframe tbody tr th:only-of-type {\n",
       "        vertical-align: middle;\n",
       "    }\n",
       "\n",
       "    .dataframe tbody tr th {\n",
       "        vertical-align: top;\n",
       "    }\n",
       "\n",
       "    .dataframe thead th {\n",
       "        text-align: right;\n",
       "    }\n",
       "</style>\n",
       "<table border=\"1\" class=\"dataframe\">\n",
       "  <thead>\n",
       "    <tr style=\"text-align: right;\">\n",
       "      <th></th>\n",
       "      <th>000</th>\n",
       "      <th>10</th>\n",
       "      <th>100</th>\n",
       "      <th>100m</th>\n",
       "      <th>11</th>\n",
       "      <th>12</th>\n",
       "      <th>13</th>\n",
       "      <th>14</th>\n",
       "      <th>15</th>\n",
       "      <th>16</th>\n",
       "      <th>...</th>\n",
       "      <th>yes</th>\n",
       "      <th>yesterday</th>\n",
       "      <th>york</th>\n",
       "      <th>young</th>\n",
       "      <th>youngster</th>\n",
       "      <th>youtube</th>\n",
       "      <th>zach</th>\n",
       "      <th>zion</th>\n",
       "      <th>zouma</th>\n",
       "      <th>уou</th>\n",
       "    </tr>\n",
       "  </thead>\n",
       "  <tbody>\n",
       "    <tr>\n",
       "      <th>0</th>\n",
       "      <td>0</td>\n",
       "      <td>0</td>\n",
       "      <td>0</td>\n",
       "      <td>0</td>\n",
       "      <td>0</td>\n",
       "      <td>0</td>\n",
       "      <td>0</td>\n",
       "      <td>0</td>\n",
       "      <td>0</td>\n",
       "      <td>0</td>\n",
       "      <td>...</td>\n",
       "      <td>0</td>\n",
       "      <td>0</td>\n",
       "      <td>0</td>\n",
       "      <td>0</td>\n",
       "      <td>0</td>\n",
       "      <td>0</td>\n",
       "      <td>0</td>\n",
       "      <td>0</td>\n",
       "      <td>0</td>\n",
       "      <td>0</td>\n",
       "    </tr>\n",
       "    <tr>\n",
       "      <th>1</th>\n",
       "      <td>0</td>\n",
       "      <td>0</td>\n",
       "      <td>0</td>\n",
       "      <td>0</td>\n",
       "      <td>0</td>\n",
       "      <td>0</td>\n",
       "      <td>0</td>\n",
       "      <td>0</td>\n",
       "      <td>0</td>\n",
       "      <td>0</td>\n",
       "      <td>...</td>\n",
       "      <td>0</td>\n",
       "      <td>0</td>\n",
       "      <td>0</td>\n",
       "      <td>0</td>\n",
       "      <td>0</td>\n",
       "      <td>0</td>\n",
       "      <td>0</td>\n",
       "      <td>0</td>\n",
       "      <td>0</td>\n",
       "      <td>0</td>\n",
       "    </tr>\n",
       "    <tr>\n",
       "      <th>2</th>\n",
       "      <td>0</td>\n",
       "      <td>0</td>\n",
       "      <td>0</td>\n",
       "      <td>0</td>\n",
       "      <td>0</td>\n",
       "      <td>0</td>\n",
       "      <td>0</td>\n",
       "      <td>0</td>\n",
       "      <td>0</td>\n",
       "      <td>0</td>\n",
       "      <td>...</td>\n",
       "      <td>0</td>\n",
       "      <td>0</td>\n",
       "      <td>0</td>\n",
       "      <td>0</td>\n",
       "      <td>0</td>\n",
       "      <td>0</td>\n",
       "      <td>0</td>\n",
       "      <td>0</td>\n",
       "      <td>0</td>\n",
       "      <td>0</td>\n",
       "    </tr>\n",
       "    <tr>\n",
       "      <th>3</th>\n",
       "      <td>0</td>\n",
       "      <td>0</td>\n",
       "      <td>0</td>\n",
       "      <td>0</td>\n",
       "      <td>0</td>\n",
       "      <td>0</td>\n",
       "      <td>0</td>\n",
       "      <td>0</td>\n",
       "      <td>0</td>\n",
       "      <td>0</td>\n",
       "      <td>...</td>\n",
       "      <td>0</td>\n",
       "      <td>0</td>\n",
       "      <td>0</td>\n",
       "      <td>0</td>\n",
       "      <td>0</td>\n",
       "      <td>0</td>\n",
       "      <td>0</td>\n",
       "      <td>0</td>\n",
       "      <td>0</td>\n",
       "      <td>0</td>\n",
       "    </tr>\n",
       "    <tr>\n",
       "      <th>4</th>\n",
       "      <td>0</td>\n",
       "      <td>0</td>\n",
       "      <td>0</td>\n",
       "      <td>0</td>\n",
       "      <td>0</td>\n",
       "      <td>0</td>\n",
       "      <td>0</td>\n",
       "      <td>0</td>\n",
       "      <td>0</td>\n",
       "      <td>0</td>\n",
       "      <td>...</td>\n",
       "      <td>0</td>\n",
       "      <td>0</td>\n",
       "      <td>0</td>\n",
       "      <td>0</td>\n",
       "      <td>0</td>\n",
       "      <td>0</td>\n",
       "      <td>0</td>\n",
       "      <td>0</td>\n",
       "      <td>0</td>\n",
       "      <td>0</td>\n",
       "    </tr>\n",
       "  </tbody>\n",
       "</table>\n",
       "<p>5 rows × 1500 columns</p>\n",
       "</div>"
      ],
      "text/plain": [
       "   000  10  100  100m  11  12  13  14  15  16  ...  yes  yesterday  york  \\\n",
       "0    0   0    0     0   0   0   0   0   0   0  ...    0          0     0   \n",
       "1    0   0    0     0   0   0   0   0   0   0  ...    0          0     0   \n",
       "2    0   0    0     0   0   0   0   0   0   0  ...    0          0     0   \n",
       "3    0   0    0     0   0   0   0   0   0   0  ...    0          0     0   \n",
       "4    0   0    0     0   0   0   0   0   0   0  ...    0          0     0   \n",
       "\n",
       "   young  youngster  youtube  zach  zion  zouma  уou  \n",
       "0      0          0        0     0     0      0    0  \n",
       "1      0          0        0     0     0      0    0  \n",
       "2      0          0        0     0     0      0    0  \n",
       "3      0          0        0     0     0      0    0  \n",
       "4      0          0        0     0     0      0    0  \n",
       "\n",
       "[5 rows x 1500 columns]"
      ]
     },
     "execution_count": 30,
     "metadata": {},
     "output_type": "execute_result"
    }
   ],
   "source": [
    "X_train_cvec.head()"
   ]
  },
  {
   "cell_type": "code",
   "execution_count": 31,
   "id": "4d2348b1",
   "metadata": {},
   "outputs": [
    {
     "data": {
      "image/png": "[encoded data removed]",
      "text/plain": [
       "<Figure size 432x288 with 1 Axes>"
      ]
     },
     "metadata": {
      "needs_background": "light"
     },
     "output_type": "display_data"
    }
   ],
   "source": [
    "# Plot top 10 occuring words\n",
    "bar_plot = X_train_cvec.sum().sort_values(ascending = False).head(10)\n",
    "bar_plot.plot(kind = 'bar', title = 'Top 10 Occurring Words', xlabel = 'Type of Words', ylabel = 'Count');"
   ]
  },
  {
   "cell_type": "code",
   "execution_count": 32,
   "id": "4ec80172",
   "metadata": {},
   "outputs": [],
   "source": [
    "# Transform our testing data with the already-fit CountVectorizer.\n",
    "X_test_cvec = pd.DataFrame(cvec.transform(X_test['Tokenized and Lemmatized']).todense(),\n",
    "                         columns = cvec.get_feature_names())"
   ]
  },
  {
   "cell_type": "markdown",
   "id": "224383f6",
   "metadata": {},
   "source": [
    "## 6.1 Naive Bayes"
   ]
  },
  {
   "cell_type": "code",
   "execution_count": 33,
   "id": "688c2011",
   "metadata": {},
   "outputs": [],
   "source": [
    "nb = MultinomialNB()"
   ]
  },
  {
   "cell_type": "code",
   "execution_count": 34,
   "id": "1b06c559",
   "metadata": {},
   "outputs": [],
   "source": [
    "# Fit our model\n",
    "nb_model = nb.fit(X_train_cvec, y_train)"
   ]
  },
  {
   "cell_type": "code",
   "execution_count": 35,
   "id": "584c2357",
   "metadata": {},
   "outputs": [],
   "source": [
    "# Generate our predictions\n",
    "predictions_nb = nb_model.predict(X_test_cvec)"
   ]
  },
  {
   "cell_type": "code",
   "execution_count": 36,
   "id": "193800d8",
   "metadata": {},
   "outputs": [
    {
     "data": {
      "image/png": "[encoded data removed]",
      "text/plain": [
       "<Figure size 432x288 with 2 Axes>"
      ]
     },
     "metadata": {
      "needs_background": "light"
     },
     "output_type": "display_data"
    }
   ],
   "source": [
    "# Plot confusion matrix\n",
    "plot_confusion_matrix(nb_model, X_test_cvec, y_test, cmap = 'Blues', display_labels = ['NBA','PremierLeague']);"
   ]
  },
  {
   "cell_type": "code",
   "execution_count": 37,
   "id": "27ab4bd2",
   "metadata": {},
   "outputs": [
    {
     "name": "stdout",
     "output_type": "stream",
     "text": [
      "0.9259927797833934\n",
      "0.911578947368421\n"
     ]
    }
   ],
   "source": [
    "# Check for over or under fitting\n",
    "print(nb_model.score(X_train_cvec, y_train))\n",
    "print(nb_model.score(X_test_cvec, y_test))"
   ]
  },
  {
   "cell_type": "code",
   "execution_count": 38,
   "id": "7c845e8f",
   "metadata": {},
   "outputs": [
    {
     "name": "stdout",
     "output_type": "stream",
     "text": [
      "F1 Score: 0.911\n",
      "Accuracy Score: 0.912\n"
     ]
    }
   ],
   "source": [
    "print(f'F1 Score:',f1_score(y_test, predictions_nb).round(3))\n",
    "print(f'Accuracy Score:',accuracy_score(y_test, predictions_nb).round(3))"
   ]
  },
  {
   "cell_type": "markdown",
   "id": "a4dff00a",
   "metadata": {},
   "source": [
    "##### Plot Countplot to visualize how Naive Bayes model predicts. Based on baseline accuracy, we should have almost equal predictions for both subreddits"
   ]
  },
  {
   "cell_type": "code",
   "execution_count": 39,
   "id": "a33946f4",
   "metadata": {},
   "outputs": [
    {
     "name": "stderr",
     "output_type": "stream",
     "text": [
      "/Users/ben/opt/anaconda3/lib/python3.8/site-packages/seaborn/_decorators.py:36: FutureWarning: Pass the following variable as a keyword arg: x. From version 0.12, the only valid positional argument will be `data`, and passing other arguments without an explicit keyword will result in an error or misinterpretation.\n",
      "  warnings.warn(\n"
     ]
    },
    {
     "data": {
      "image/png": "[encoded data removed]",
      "text/plain": [
       "<Figure size 432x288 with 1 Axes>"
      ]
     },
     "metadata": {
      "needs_background": "light"
     },
     "output_type": "display_data"
    }
   ],
   "source": [
    "ax = sns.countplot(predictions_nb, palette = 'Blues')\n",
    "ax.set(xlabel = \"Label\", ylabel = \"Count\", title = 'Countplot for Naive Bayes');"
   ]
  },
  {
   "cell_type": "markdown",
   "id": "b4f2ef0a",
   "metadata": {},
   "source": [
    "## 6.2 Random Forest Classifier "
   ]
  },
  {
   "cell_type": "code",
   "execution_count": 40,
   "id": "b0314079",
   "metadata": {},
   "outputs": [],
   "source": [
    "from sklearn.ensemble import RandomForestClassifier\n",
    "from sklearn.model_selection import cross_val_score, GridSearchCV"
   ]
  },
  {
   "cell_type": "code",
   "execution_count": 41,
   "id": "88e26933",
   "metadata": {},
   "outputs": [],
   "source": [
    "#Instatiate RandomForestClassifier\n",
    "rfc = RandomForestClassifier(oob_score = True, n_jobs = -1)"
   ]
  },
  {
   "cell_type": "code",
   "execution_count": 42,
   "id": "e3124293",
   "metadata": {},
   "outputs": [
    {
     "name": "stdout",
     "output_type": "stream",
     "text": [
      "0.8452188032157142\n"
     ]
    },
    {
     "data": {
      "text/plain": [
       "{'max_depth': 3, 'min_samples_split': 2, 'n_estimators': 200}"
      ]
     },
     "execution_count": 42,
     "metadata": {},
     "output_type": "execute_result"
    }
   ],
   "source": [
    "rfc_params = {\n",
    "    'n_estimators': [100, 150, 200, 250],\n",
    "    'max_depth': [1, 2, 3],\n",
    "    'min_samples_split': [2, 3]\n",
    "}\n",
    "gs = GridSearchCV(rfc, param_grid = rfc_params, cv = 5, n_jobs = -1)\n",
    "gs.fit(X_train_cvec, y_train)\n",
    "print(gs.best_score_)\n",
    "gs.best_params_"
   ]
  },
  {
   "cell_type": "code",
   "execution_count": 43,
   "id": "6f5ad620",
   "metadata": {},
   "outputs": [
    {
     "name": "stdout",
     "output_type": "stream",
     "text": [
      "2850\n"
     ]
    }
   ],
   "source": [
    "predictions_rfc = gs.predict(X_test_cvec)\n",
    "print(len(predictions_rfc))"
   ]
  },
  {
   "cell_type": "code",
   "execution_count": 44,
   "id": "58423ce3",
   "metadata": {},
   "outputs": [
    {
     "data": {
      "image/png": "[encoded data removed]",
      "text/plain": [
       "<Figure size 432x288 with 2 Axes>"
      ]
     },
     "metadata": {
      "needs_background": "light"
     },
     "output_type": "display_data"
    }
   ],
   "source": [
    "plot_confusion_matrix(gs, X_test_cvec, y_test, cmap = 'Blues', values_format = 'd', display_labels=['NBA','PremierLeague']);"
   ]
  },
  {
   "cell_type": "code",
   "execution_count": 45,
   "id": "dbd76041",
   "metadata": {},
   "outputs": [
    {
     "name": "stdout",
     "output_type": "stream",
     "text": [
      "0.8614620938628159\n",
      "0.8536842105263158\n"
     ]
    }
   ],
   "source": [
    "# Check for over or under fitting\n",
    "print(gs.score(X_train_cvec, y_train))\n",
    "print(gs.score(X_test_cvec, y_test))"
   ]
  },
  {
   "cell_type": "code",
   "execution_count": 46,
   "id": "5c9b5095",
   "metadata": {},
   "outputs": [
    {
     "name": "stdout",
     "output_type": "stream",
     "text": [
      "F1 Score: 0.846\n",
      "Accuracy Score: 0.854\n"
     ]
    }
   ],
   "source": [
    "print(f'F1 Score:', f1_score(y_test, predictions_rfc).round(3))\n",
    "print(f'Accuracy Score:', accuracy_score(y_test, predictions_rfc).round(3))"
   ]
  },
  {
   "cell_type": "markdown",
   "id": "0e5b7b02",
   "metadata": {},
   "source": [
    "##### Plot Countplot to visualize how Random Forest Classifier model predicts. Based on baseline accuracy, we should have almost equal predictions for both subreddits"
   ]
  },
  {
   "cell_type": "code",
   "execution_count": 47,
   "id": "d132e489",
   "metadata": {},
   "outputs": [
    {
     "name": "stderr",
     "output_type": "stream",
     "text": [
      "/Users/ben/opt/anaconda3/lib/python3.8/site-packages/seaborn/_decorators.py:36: FutureWarning: Pass the following variable as a keyword arg: x. From version 0.12, the only valid positional argument will be `data`, and passing other arguments without an explicit keyword will result in an error or misinterpretation.\n",
      "  warnings.warn(\n"
     ]
    },
    {
     "data": {
      "image/png": "[encoded data removed]",
      "text/plain": [
       "<Figure size 432x288 with 1 Axes>"
      ]
     },
     "metadata": {
      "needs_background": "light"
     },
     "output_type": "display_data"
    }
   ],
   "source": [
    "ax = sns.countplot(predictions_rfc, palette = 'Blues')\n",
    "ax.set(xlabel = \"Label\", ylabel = \"Count\", title = 'Countplot for Naive Bayes');"
   ]
  },
  {
   "cell_type": "markdown",
   "id": "7a7f2cfe",
   "metadata": {},
   "source": [
    "# 7. Evaluation"
   ]
  },
  {
   "cell_type": "code",
   "execution_count": 48,
   "id": "9323875b",
   "metadata": {},
   "outputs": [
    {
     "data": {
      "image/png": "[encoded data removed]",
      "text/plain": [
       "<Figure size 432x288 with 1 Axes>"
      ]
     },
     "metadata": {
      "needs_background": "light"
     },
     "output_type": "display_data"
    },
    {
     "data": {
      "image/png": "[encoded data removed]",
      "text/plain": [
       "<Figure size 432x288 with 1 Axes>"
      ]
     },
     "metadata": {
      "needs_background": "light"
     },
     "output_type": "display_data"
    }
   ],
   "source": [
    "# Plot AUC - ROC Curve\n",
    "\n",
    "fig = plot_roc_curve(nb_model, X_train_cvec, y_train, name = 'MultinomialNB (Train)')\n",
    "fig = plot_roc_curve(nb_model, X_test_cvec, y_test, name = 'MultinomialNB (Test)', ax = fig.ax_)\n",
    "fig.figure_.suptitle(\"ROC Curves Comparison for Train and Test Data Set (Naive Bayes)\")\n",
    "plt.show()\n",
    "\n",
    "fig = plot_roc_curve(gs, X_train_cvec, y_train, name = 'RandomForestClassifier (Train)')\n",
    "fig = plot_roc_curve(gs, X_test_cvec, y_test, name = 'RandomForestClassifier (Test)', ax = fig.ax_)\n",
    "fig.figure_.suptitle(\"ROC Curves Comparison for Train and Test Data Set (RandomForestClassifier)\")\n",
    "plt.show()"
   ]
  },
  {
   "cell_type": "markdown",
   "id": "b30b171a",
   "metadata": {},
   "source": [
    "# 8. Conclusion"
   ]
  },
  {
   "cell_type": "markdown",
   "id": "de8db557",
   "metadata": {},
   "source": [
    "Based on the two models, Naive Bayes is the better model with higher F1 score, accuracy score and AUC value. However for consistency wise, Random Forest Classifier is a better fitted model from the look of the ROC Curve. Future work including tring out the TF-IDF Vectorizer to test for a more accurate model. I will also be removing majority of the common words which have high freqeuncy of occurrences. Other models like Logistic Regression, SVM, etc will be use as well, to further compare and decide on the best model for this binary classification."
   ]
  }
 ],
 "metadata": {
  "kernelspec": {
   "display_name": "Python 3",
   "language": "python",
   "name": "python3"
  },
  "language_info": {
   "codemirror_mode": {
    "name": "ipython",
    "version": 3
   },
   "file_extension": ".py",
   "mimetype": "text/x-python",
   "name": "python",
   "nbconvert_exporter": "python",
   "pygments_lexer": "ipython3",
   "version": "3.8.8"
  }
 },
 "nbformat": 4,
 "nbformat_minor": 5
}
